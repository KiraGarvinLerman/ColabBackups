{
  "cells": [
    {
      "cell_type": "markdown",
      "metadata": {
        "id": "view-in-github",
        "colab_type": "text"
      },
      "source": [
        "<a href=\"https://colab.research.google.com/github/KiraGarvinLerman/ColabBackups/blob/main/Ologies_Topics_vs_Google_Trends.ipynb\" target=\"_parent\"><img src=\"https://colab.research.google.com/assets/colab-badge.svg\" alt=\"Open In Colab\"/></a>"
      ]
    },
    {
      "cell_type": "markdown",
      "source": [
        "# Project Overview"
      ],
      "metadata": {
        "id": "D-cobMsychP8"
      }
    },
    {
      "cell_type": "markdown",
      "source": [
        "##Objective"
      ],
      "metadata": {
        "id": "ezjPvHt8hs8m"
      }
    },
    {
      "cell_type": "markdown",
      "source": [
        "**Description:** Ologies is a popular podcast hosted by Alie Ward, where she interviews experts (\"-ologists\") in various fields to explore fascinating and often obscure topics. Each episode delves into a different \"ology,\" making science and learning accessible and engaging for a broad audience.\n",
        "\n",
        "\n",
        "*Ologies' official description as of Oct. 2024:*\n",
        "> Volcanoes. Trees. Drunk butterflies. Mars missions. Slug sex. Death. Beauty standards. Anxiety busters. Beer science. Bee drama. Take away a pocket full of science knowledge and charming, bizarre stories about what fuels these professional -ologists' obsessions. Humorist and science correspondent Alie Ward asks smart people stupid questions and the answers might change your life.\n",
        "\n",
        "\n",
        "**Hypothesis:** Exposure to novel topics through Ologies episodes will trigger increased online searches related to those topics. Listeners, intrigued by the information presented, are likely to seek further knowledge and explore the subject in more detail through provided links and search engines like Google."
      ],
      "metadata": {
        "id": "FIJ8-IWrhwL9"
      }
    },
    {
      "cell_type": "markdown",
      "source": [
        "## Approach"
      ],
      "metadata": {
        "id": "IM9v0VmfCOo_"
      }
    },
    {
      "cell_type": "markdown",
      "source": [
        "1. **Scrape Ologies Episodes:**\n",
        "   - Use [BeautifulSoup](https://colab.research.google.com/github/Tanu-N-Prabhu/Python/blob/master/Google_Trends_API.ipynb) to extract details about the episodes of the Ologies podcast. This includes episode titles, date, and the keywords covered.\n",
        "\n",
        "2. **Gather Search Trend Data:**\n",
        "   - Use [Pytrends](https://colab.research.google.com/github/Tanu-N-Prabhu/Python/blob/master/Google_Trends_API.ipynb) to collect data on search trends related to the topics discussed in the Ologies episodes.\n",
        "\n",
        "3. **Analyze Correlation:**\n",
        "   - Compare the trends in the search data with the topics covered in the Ologies podcast episodes. Look for patterns or correlations to determine if there’s a relationship between the podcast topics and the public’s interest as reflected in search data.\n",
        "\n",
        "   [Colab Link](https://colab.research.google.com/drive/1kFqjjOJCmk22Q_ts3Q1mDP-HW9wCuFtT?usp=sharing)\n",
        "   [GitHub Repo](https://github.com/KiraGarvinLerman/ColabBackups.git)"
      ],
      "metadata": {
        "id": "frOv1R7dckvM"
      }
    },
    {
      "cell_type": "markdown",
      "metadata": {
        "id": "pcnhNqRYQ-NQ"
      },
      "source": [
        "# Web Scraping with `requests` and `BeautifulSoup`\n",
        "\n",
        "Using `requests` and `BeautifulSoup` to access and scrape the content of [Ologies' Categorical Information](https://www.alieward.com/ologies), and [Podcast Feed](https://feeds.simplecast.com/FO6kxYGj)."
      ]
    },
    {
      "cell_type": "code",
      "execution_count": 88,
      "metadata": {
        "id": "MSROUPsTQ-NR"
      },
      "outputs": [],
      "source": [
        "# Import Beautiful Soup and other tools\n",
        "import requests\n",
        "import numpy as np\n",
        "import pandas as pd\n",
        "from bs4 import BeautifulSoup\n",
        "import matplotlib.pyplot as plt\n",
        "from datetime import datetime\n",
        "import re\n",
        "\n",
        "%matplotlib inline\n"
      ]
    },
    {
      "cell_type": "markdown",
      "source": [
        "## Determine Sources & Collection Points"
      ],
      "metadata": {
        "id": "axyipbeciCgM"
      }
    },
    {
      "cell_type": "markdown",
      "source": [
        "###Ologies Website - Categories"
      ],
      "metadata": {
        "id": "PqI1wHfkrCVr"
      }
    },
    {
      "cell_type": "code",
      "execution_count": 89,
      "metadata": {
        "id": "lCndIbmcQ-NS",
        "colab": {
          "base_uri": "https://localhost:8080/",
          "height": 53
        },
        "outputId": "0eccba6a-2ac9-4b04-9468-aee4770a9f8b"
      },
      "outputs": [
        {
          "output_type": "stream",
          "name": "stdout",
          "text": [
            "<Response [200]>\n"
          ]
        },
        {
          "output_type": "execute_result",
          "data": {
            "text/plain": [
              "'Ologies by Topic — alie ward'"
            ],
            "application/vnd.google.colaboratory.intrinsic+json": {
              "type": "string"
            }
          },
          "metadata": {},
          "execution_count": 89
        }
      ],
      "source": [
        "# Ologies' Website\n",
        "ologies_url = 'https://www.alieward.com/ologies-by-topic'\n",
        "\n",
        "#Confirm no scraping errors and retrieve data from URL\n",
        "ologies_response = requests.get(ologies_url)\n",
        "print(ologies_response)\n",
        "\n",
        "# Parse the whole HTML page using BeautifulSoup\n",
        "ologies_soup = BeautifulSoup(ologies_response.text, 'html')\n",
        "\n",
        "# Confirm correct page is pulling\n",
        "ologies_soup.title.string"
      ]
    },
    {
      "cell_type": "markdown",
      "source": [
        "###Ologies Podcast Feed"
      ],
      "metadata": {
        "id": "1df_BPwKrLDX"
      }
    },
    {
      "cell_type": "code",
      "execution_count": 90,
      "metadata": {
        "colab": {
          "base_uri": "https://localhost:8080/",
          "height": 53
        },
        "outputId": "515c7370-802d-49fc-c357-2d950efce7c2",
        "id": "U02N3kXCpDoF"
      },
      "outputs": [
        {
          "output_type": "stream",
          "name": "stdout",
          "text": [
            "<Response [200]>\n"
          ]
        },
        {
          "output_type": "execute_result",
          "data": {
            "text/plain": [
              "'Ologies with Alie Ward'"
            ],
            "application/vnd.google.colaboratory.intrinsic+json": {
              "type": "string"
            }
          },
          "metadata": {},
          "execution_count": 90
        }
      ],
      "source": [
        "# Ologies' Feed\n",
        "ologies_feed = 'https://feeds.simplecast.com/FO6kxYGj'\n",
        "\n",
        "#Confirm no scraping errors and retrieve data from URL\n",
        "feed_response = requests.get(ologies_feed)\n",
        "print(feed_response)\n",
        "\n",
        "# Parse the whole XML file using BeautifulSoup\n",
        "feed_soup = BeautifulSoup(feed_response.content, features=\"xml\")\n",
        "\n",
        "# Confirm correct file is pulling\n",
        "feed_soup.title.string"
      ]
    },
    {
      "cell_type": "markdown",
      "metadata": {
        "id": "In7BaMY8Q-NT"
      },
      "source": [
        "## Collect Data"
      ]
    },
    {
      "cell_type": "markdown",
      "source": [
        "###Collect Category Information"
      ],
      "metadata": {
        "id": "TFpgB1-smTt8"
      }
    },
    {
      "cell_type": "code",
      "execution_count": 91,
      "metadata": {
        "id": "YhDF_k3FQ-NT",
        "colab": {
          "base_uri": "https://localhost:8080/"
        },
        "outputId": "19f19d22-de83-49ea-cab1-b623c6627eea"
      },
      "outputs": [
        {
          "output_type": "stream",
          "name": "stdout",
          "text": [
            "Animals: Tardigradology (TINY SEMI-INDESTRUCTIBLE WATER BEAR MOSS PIGLET CREATURES CALLED TARDIGRADES) with Dr. Paul Bartels\n"
          ]
        }
      ],
      "source": [
        "# Check html labeling and determine structure:\n",
        "# * Category: \"a\" class = \"archive-group-name-link\"\n",
        "#  * Category's Episodes: \"ul\" class=\"archive-item-list\"\n",
        "#    * Episode: \"li\" class=\"archive-item archive-item--show-date\"\n",
        "#      * Date Sort: \"span\" class=\"archive-item-date-before\"\n",
        "#      * Episode Name: a class=\"archive-item-link\"\n",
        "#      * Episode Latest Air-date: \"span\" class=\"archive-item-date-after\"\n",
        "\n",
        "# Confirm accurate parsing:\n",
        "category_data_outer = ologies_soup.find('div', id = \"block-yui_3_17_2_1_1691591227690_3212\") # For full project\n",
        "\n",
        "category_data_inner = category_data_outer.find('a', class_ = \"archive-group-name-link\").get_text().strip() # For testing parsing\n",
        "episode_data_inner = category_data_outer.find('a', class_ = \"archive-item-link\").get_text().strip() # For testing parsing\n",
        "print(category_data_inner+\":\", episode_data_inner) # For testing parsing"
      ]
    },
    {
      "cell_type": "code",
      "source": [
        "# Check if episodes are listed in multiple categories\n",
        "episodes_data_inner = category_data_outer.find_all('a', class_ = \"archive-item-link\")# Pull full list\n",
        "seen = set()\n",
        "dupes = [x.get_text().strip() for x in episodes_data_inner if x in seen or seen.add(x)] # Create list of duplicates\n",
        "print(len(set(dupes)), \"episodes are duplicated:\")\n",
        "for dupe in set(dupes):\n",
        "  print(dupe)"
      ],
      "metadata": {
        "colab": {
          "base_uri": "https://localhost:8080/"
        },
        "id": "KKOCXDqiLfnv",
        "outputId": "6f2e29e0-acde-4369-a380-bc580bdc58c1"
      },
      "execution_count": 92,
      "outputs": [
        {
          "output_type": "stream",
          "name": "stdout",
          "text": [
            "9 episodes are duplicated:\n",
            "Molecular Biology (PROTEINS + SCIENCE COMMUNICATION) with Raven “The Science Maven” Baxter\n",
            "Coffeeology (YEP, COFFEE) with Peter Giuliano\n",
            "Indigenous Cuisinology (NATIVE COOKING) with Mariah Gladstone of Indigikitchen\n",
            "Scatology (POOP) with Dr. Rachel Santymire\n",
            "Indigenous Fire Ecology (GOOD FIRE) with Dr. Amy Christianson\n",
            "Futurology (THE FUTURE) with Rose Eveleth\n",
            "Maritime Archaeology (SHIPWRECKS) with Chanelle Zaphiropoulos\n",
            "Speech Pathology (TALKING DOGS... AND PEOPLE) with Christina Hunger\n",
            "Foraging Ecology (EATING WILD PLANTS) with @BlackForager, Alexis Nikole Nelson\n"
          ]
        }
      ]
    },
    {
      "cell_type": "markdown",
      "source": [
        "###Collect Podcast Feed Data"
      ],
      "metadata": {
        "id": "RBEaCA16orVu"
      }
    },
    {
      "cell_type": "markdown",
      "source": [
        "###Episodal Data\n",
        "Some episodes have been re-aired to cover periods of time off, to honor someone passing, etc. Additionally, there are different types of episodes including updates, being made into a \"Smology\" (for kids), etc.\n",
        "\n",
        "Thus, we will need:\n",
        "* an ology reference table (e.g., -ology, -ologist(s))\n",
        "* a reference table for total airings of an ology (e.g. -ology, airdate, episode type)"
      ],
      "metadata": {
        "id": "tEfjOPpdvvCk"
      }
    },
    {
      "cell_type": "markdown",
      "source": [
        "####Parsing data from XML file"
      ],
      "metadata": {
        "id": "MrY-97CrOlSQ"
      }
    },
    {
      "cell_type": "code",
      "source": [
        "# Check XML labeling and determine structure:\n",
        "\n",
        "  # <item>\n",
        "    # <guid isPermaLink=\"false\">--longID--</guid>\n",
        "    # <title>Ology (COMMON NAME) [Encore, Part, etc.] with [-ologist(s)]</title>\n",
        "    # <description>\n",
        "      # <![CDATA[\n",
        "          #<p>[Official description]</p>\n",
        "          #<p>[More about the -ologist(s)]</p>\n",
        "          #<p>Donations went to the [one or more charities with links]</p>\n",
        "          #<p><a href=\"https://www.alieward.com/ologies/[ology]\">More episode sources and links</a></p>\n",
        "          #<p>Other episodes you may enjoy: <a href=\"https://www.alieward.com/ologies/[ology1]\">Ology (NAME)</a>, etc.</p>\n",
        "          #other <p>s that appear on every episode\n",
        "    # </description>\n",
        "    # <pubDate>Wed, 9 Oct 2024 07:00:00 +0000</pubDate>\n",
        "    # <author>--</author>\n",
        "    # <link>--</link>\n",
        "    # <content:encoded>[Official description]</content:encoded>\n",
        "    # <enclosure length=[numbers = bytes] type=\"audio/mpeg\" url=\"[long URL for episode file]/>\n",
        "    # <itunes:title>Ology (COMMON NAME) [Encore, Part, etc.] with [-ologist(s)]</itunes:title>\n",
        "    # <itunes:author>Alie Ward</itunes:author>\n",
        "    # <itunes:duration>00:52:23</itunes:duration>\n",
        "    # <itunes:summary>[Official description]</itunes:summary>\n",
        "    # <itunes:subtitle>[Official description]</itunes:subtitle>\n",
        "    # <itunes:explicit>[True/False]</itunes:explicit>\n",
        "    # <itunes:episodeType>full</itunes:episodeType>\n",
        "  # </item>\n",
        "\n",
        "# Confirm accurate parsing:\n",
        "episode_data_outer = feed_soup.find('item')\n",
        "episode_ology_inner = episode_data_outer.find('title').get_text().strip().split(\" (\",1)[0].replace(\"Spesh Ep: \",\"\")\n",
        "episode_date_inner = episode_data_outer.find('pubDate').get_text().strip()\n",
        "episode_date = datetime.strptime(episode_date_inner,\"%a, %d %b %Y %H:%M:%S %z\")\n",
        "episode_summary = episode_data_outer.find('itunes:summary').get_text().strip()\n",
        "\n",
        "print(episode_ology_inner, episode_date.date()) # For testing parsing\n",
        "print(episode_summary)\n"
      ],
      "metadata": {
        "colab": {
          "base_uri": "https://localhost:8080/"
        },
        "id": "byMlD3YUvAsd",
        "outputId": "065b65eb-f9fd-434e-9b72-de2e1ead2340"
      },
      "execution_count": 93,
      "outputs": [
        {
          "output_type": "stream",
          "name": "stdout",
          "text": [
            "Field Trip: I Take You to the Making of a Mural 2024-10-30\n",
            "Folks, come with me. We’re hanging out under some train tracks late at night in Philadelphia doing street art. As the promised companion piece to our wonderful Modern Toichographology episode on murals and street art, this Field Trip takes us to where the action happens, chatting with several muralists as they work on their 17-foot paintings lining Front Street. You’ll meet UNAPXLXGETIQ, El Toro, and Iris Barbee Pendergrass a.k.a. These Pink Lips and learn about their favorite inspirations, methods to making their designs huge, how many Sharpies it takes to outline a building-sized painting, sticker vs. marker vs. paint, graphic and text mural designs, freehand, and most of all, how not to get caught doing illegal art. Onward.\n"
          ]
        }
      ]
    },
    {
      "cell_type": "markdown",
      "source": [
        "####Confirm understanding of -ology duplicates within file"
      ],
      "metadata": {
        "id": "6Au4Vq18Ou_I"
      }
    },
    {
      "cell_type": "code",
      "source": [
        "# Confirm there are no duplicates when looking by **title** within the feed\n",
        "episodes_data_outer = feed_soup.find_all('item')\n",
        "episodes_data_inner = [item.find('title').get_text() for item in episodes_data_outer]\n",
        "episodes_ologies = [x.split(\" (\",1)[0].replace(\"Spesh Ep: \",\"\") for x in episodes_data_inner]\n",
        "\n",
        "seen1 = set()\n",
        "dupes = [x for x in episodes_data_inner if x in seen1 or seen1.add(x)] # Create list of duplicates\n",
        "print(len(set(dupes)), \"duplicates found by title.\")\n",
        "\n",
        "#but that there are duplicates when looking by -ology\n",
        "seen2 = set()\n",
        "dupes = [x for x in episodes_ologies if x in seen2 or seen2.add(x)] # Create list of duplicates\n",
        "print(len(set(dupes)), \"Ologies have been aired more than one way.\")\n"
      ],
      "metadata": {
        "colab": {
          "base_uri": "https://localhost:8080/"
        },
        "outputId": "ce31c450-0e82-40ca-d4e1-58046631bf16",
        "id": "cmGqx37ZBTHH"
      },
      "execution_count": 94,
      "outputs": [
        {
          "output_type": "stream",
          "name": "stdout",
          "text": [
            "0 duplicates found by title.\n",
            "51 Ologies have been aired more than one way.\n"
          ]
        }
      ]
    },
    {
      "cell_type": "markdown",
      "source": [
        "#Organizing Data\n",
        "Now that we have an understanding about the data, we can organize them into tables."
      ],
      "metadata": {
        "id": "8jrmgv6W3pVj"
      }
    },
    {
      "cell_type": "markdown",
      "source": [
        "## Category Reference Table"
      ],
      "metadata": {
        "id": "L87bvHAyoVDo"
      }
    },
    {
      "source": [
        "# At the time of this note, 9 epsidodes appear under multiple categories.\n",
        "#This will be a reference table for Categories that apply to the Ology.\n",
        "\n",
        "#Pull category information into a pandas db\n",
        "\n",
        "cat_data = []\n",
        "\n",
        "for cat_id, cat in enumerate(category_data_outer.find_all('a', class_ = \"archive-group-name-link\"),1):\n",
        "    category = cat.get_text().strip()\n",
        "    for ep in cat.find_next_sibling('ul').find_all('a'):\n",
        "      ology = ep.get_text().strip().split(\" (\",1)[0].replace(\"Spesh Ep: \",\"\")\n",
        "      cat_data.append({'CategoryID': cat_id, 'Category': category, 'Ology': ology})\n",
        "\n",
        "cat_ref_df = pd.DataFrame(cat_data)\n",
        "\n",
        "print(cat_ref_df)"
      ],
      "cell_type": "code",
      "metadata": {
        "colab": {
          "base_uri": "https://localhost:8080/"
        },
        "id": "ArPxViq30JRi",
        "outputId": "23d5d9b5-509b-43c4-eeca-7ee2a02b93b5"
      },
      "execution_count": 95,
      "outputs": [
        {
          "output_type": "stream",
          "name": "stdout",
          "text": [
            "     CategoryID        Category            Ology\n",
            "0             1         Animals   Tardigradology\n",
            "1             1         Animals    Ambystomology\n",
            "2             1         Animals  Hydrochoerology\n",
            "3             1         Animals       Lemurology\n",
            "4             1         Animals     Road Ecology\n",
            "..          ...             ...              ...\n",
            "301          17  The Human Body       Trichology\n",
            "302          17  The Human Body       Gynecology\n",
            "303          17  The Human Body         Sexology\n",
            "304          17  The Human Body       Hematology\n",
            "305          17  The Human Body     Glycobiology\n",
            "\n",
            "[306 rows x 3 columns]\n"
          ]
        }
      ]
    },
    {
      "cell_type": "markdown",
      "source": [
        "##Episodal Table"
      ],
      "metadata": {
        "id": "Zh7Cm7RF4j6w"
      }
    },
    {
      "source": [
        "# We determined that title names are unique, but that -ologies are not.\n",
        "\n",
        "# We want to pull description information about that specific episode, and not notes that are included on every episode\n",
        "\n",
        "# Function to pop list items based on a list of keywords\n",
        "def pop_items_by_keywords(items, keywords):\n",
        "    removed_items = []  # List to store removed items\n",
        "    for item in items[:]:  # Iterate over a copy of the list to avoid modifying it while iterating\n",
        "        if any(keyword.lower() in item.lower() for keyword in keywords):  # Check against all keywords\n",
        "            removed_items.append(item)  # Add matched item to removed items\n",
        "            items.remove(item)  # Remove the item from the original list\n",
        "\n",
        "    return removed_items  # Return all removed items\n",
        "\n",
        "# repeated information to exclude from our description:\n",
        "keywords = [\"Transcripts\",\n",
        "    \"Patreon.com/ologies\",\n",
        "    \"OlogiesMerch.com\",\n",
        "    \"instagram.com/ologies\",\n",
        "    \"instagram.com/alieward\",\n",
        "    \"Sound editing by\",\n",
        "    \"Theme song by\",\n",
        "    \"Music by\",\n",
        "    \"Music\",\n",
        "    \"Smologies\",\n",
        "    \"Made possible by work from\",\n",
        "    \"Sponsors\",\n",
        "    \"Sponsor\",\n",
        "    \"Editing by\",\n",
        "    \"Managing Director\",\n",
        "    \"Scheduling Producer\",\n",
        "    \"Production\",\n",
        "    \"/production\",\n",
        "    \"Website by\"]"
      ],
      "cell_type": "code",
      "metadata": {
        "id": "SgutKmAC41O7"
      },
      "execution_count": 96,
      "outputs": []
    },
    {
      "cell_type": "code",
      "source": [
        "#We know that there are -ologies with multiple parts, encores, updates, etc. so we will need to categorize them as they air\n",
        "def ep_type_with_regex(text, dictionary):\n",
        "    \"\"\"\n",
        "    Determines the episode type based on the presence of keywords in the text.\n",
        "\n",
        "    Args:\n",
        "        text: The text to analyze (e.g., episode title).\n",
        "        dictionary: A dictionary where keys are episode type keywords.\n",
        "\n",
        "    Returns:\n",
        "        The episode type if a keyword is found, otherwise \"Normal\".\n",
        "    \"\"\"\n",
        "\n",
        "    for keyword, episode_type in dictionary.items():\n",
        "        if re.search(keyword, text, re.IGNORECASE):\n",
        "            return episode_type\n",
        "    return \"Normal\"\n",
        "\n",
        "#type dictionary\n",
        "episode_types_regex = {\n",
        "    r\"\\b(encore)\\b\": \"Encore\",\n",
        "    r\"\\b(part\\s*\\d+)\\b\": \"Multi-Part\",\n",
        "    r\"\\b(spesh|special|field\\s*trip)\\b\": \"Special\"}\n",
        "\n",
        "#encore type dictionary\n",
        "encore_types_regex = {\n",
        "    r\"\\b(memor(y|ial)|tribute|passed\\s*away)\\b\": \"Memorial\",\n",
        "    r\"\\b(update(d)?|revisited|revised)\\b\": \"Updated\",\n",
        "}"
      ],
      "metadata": {
        "id": "30xyKyCMwb7w"
      },
      "execution_count": 115,
      "outputs": []
    },
    {
      "source": [
        "#Pull episode feed information into a pandas db\n",
        "\n",
        "ep_pub_data = []\n",
        "for ep_id, ep in enumerate(reversed(episodes_data_outer),1):\n",
        "    guid = ep.find('guid').get_text().strip()\n",
        "    episode = ep.find('title').get_text().strip()\n",
        "    ology = episode.split(\" (\",1)[0].replace(\"Spesh Ep: \",\"\")\n",
        "    date = ep.find('pubDate').get_text().strip()\n",
        "    ep_date = datetime.strptime(date,\"%a, %d %b %Y %H:%M:%S %z\").date()\n",
        "    summary = ep.find('itunes:summary').get_text().strip().replace('\\n',\" \")\n",
        "    desc = ep.find('encoded').get_text().replace('</p>','').replace('\\xa0','').strip()\n",
        "    description = desc.split('<p>')[1:]\n",
        "    description_cleaned = pop_items_by_keywords(description, keywords) #pop-out repeated information\n",
        "    supplemental = pop_items_by_keywords(description, summary.split()[0:3]) #pop-out the summary repeat\n",
        "    duration = ep.find('itunes:duration').get_text().strip()\n",
        "    ep_duration = datetime.strptime(duration,\"%H:%M:%S\").time()\n",
        "    air_type = ep_type_with_regex(episode, episode_types_regex)\n",
        "    if air_type == \"Encore\":\n",
        "      encore = ep_type_with_regex(summary,encore_types_regex)\n",
        "    else:\n",
        "      encore = \"Original\"\n",
        "    ep_pub_data.append({'epID': ep_id, 'GUID': guid, 'Airdate': ep_date, 'Duration': ep_duration, 'Episode Type' : air_type, 'Encore' : encore, 'Ology': ology, 'Episode Title': episode, 'Summary': summary, 'Supplemental': description})\n",
        "\n",
        "ep_pub_df = pd.DataFrame(ep_pub_data)\n",
        "print(ep_pub_df)"
      ],
      "cell_type": "code",
      "metadata": {
        "colab": {
          "base_uri": "https://localhost:8080/"
        },
        "outputId": "51429e15-9eef-4950-87d4-92305d80e0b1",
        "id": "ua_6rqTzh8Xx"
      },
      "execution_count": 116,
      "outputs": [
        {
          "output_type": "stream",
          "name": "stdout",
          "text": [
            "     epID                                               GUID     Airdate  \\\n",
            "0       1  gid://art19-episode-locator/V0/5tejk-w8gjcz3mh...  2017-09-04   \n",
            "1       2  gid://art19-episode-locator/V0/y1YkAIXjuZ-WshL...  2017-09-19   \n",
            "2       3  gid://art19-episode-locator/V0/rBCXtd5byuspJ-B...  2017-09-26   \n",
            "3       4  gid://art19-episode-locator/V0/d6F-1L64A-45qwM...  2017-10-04   \n",
            "4       5  gid://art19-episode-locator/V0/jrRWx8UFHOjQL-n...  2017-10-10   \n",
            "..    ...                                                ...         ...   \n",
            "415   416               1baaf1be-5069-47f8-8465-74a8c81fa32a  2024-10-02   \n",
            "416   417               e63f507a-d055-4199-b432-3fd8b84c5db9  2024-10-09   \n",
            "417   418               4afe7366-5d92-4ed9-ab42-d73678e66b79  2024-10-17   \n",
            "418   419               3f5602fc-35d4-4447-8392-12426979bb6b  2024-10-23   \n",
            "419   420               68023b48-71d9-470e-a3ae-db690b2300e8  2024-10-30   \n",
            "\n",
            "     Duration Episode Type    Encore  \\\n",
            "0    00:04:35       Normal  Original   \n",
            "1    00:57:01       Normal  Original   \n",
            "2    01:15:57       Normal  Original   \n",
            "3    00:48:04       Normal  Original   \n",
            "4    00:56:00       Normal  Original   \n",
            "..        ...          ...       ...   \n",
            "415  01:19:00       Encore    Normal   \n",
            "416  00:52:23   Multi-Part  Original   \n",
            "417  01:00:19   Multi-Part  Original   \n",
            "418  01:46:59       Normal  Original   \n",
            "419  00:33:57      Special  Original   \n",
            "\n",
            "                                               Ology  \\\n",
            "0                                          Episode 0   \n",
            "1                                        Volcanology   \n",
            "2                                        Primatology   \n",
            "3                                       Paleontology   \n",
            "4                                           Gemology   \n",
            "..                                               ...   \n",
            "415                                Urban Rodentology   \n",
            "416                                        Momiology   \n",
            "417                                        Momiology   \n",
            "418                                  Confectionology   \n",
            "419  Field Trip: I Take You to the Making of a Mural   \n",
            "\n",
            "                                         Episode Title  \\\n",
            "0                                            Episode 0   \n",
            "1            Volcanology (VOLCANOES) with Jess Phoenix   \n",
            "2       Primatology (MONKEYS & APES) with Kate Gilmore   \n",
            "3          Paleontology (DINOSAURS) with Michael Habib   \n",
            "4          Gemology (CRYSTALS & GEMS) with Kelly Sitek   \n",
            "..                                                 ...   \n",
            "415  Urban Rodentology (SEWER RATS) Encore with Bob...   \n",
            "416  Momiology (MUMMIFICATION) Part 1 with Kara Coo...   \n",
            "417  Momiology (MUMMIFICATION) Part 2 with Salima I...   \n",
            "418        Confectionology (CANDY) with Susan Benjamin   \n",
            "419    Field Trip: I Take You to the Making of a Mural   \n",
            "\n",
            "                                               Summary  \\\n",
            "0    Comedy podcaster and science correspondent Ali...   \n",
            "1    In this first episode of Ologies, Alie Ward ch...   \n",
            "2    Settle in with Alie Ward and guest Kate Gilmor...   \n",
            "3    Did Ross Gellar ruin being a paleontologist? W...   \n",
            "4    Professional gemologist Kelly Sitek talks abou...   \n",
            "..                                                 ...   \n",
            "415  Let’s kick off Spooktober with… RATS: They lov...   \n",
            "416  Linen wrapping. Expensive resins. Sarcophagi. ...   \n",
            "417  Coffin engravings! Archaeology ethics! Linen w...   \n",
            "418  Licorice opinions! War chocolate! Candy corn o...   \n",
            "419  Folks, come with me. We’re hanging out under s...   \n",
            "\n",
            "                                          Supplemental  \n",
            "0                                                   []  \n",
            "1    [Follow Jess Phoenix on <a href=\"https://www.t...  \n",
            "2                                                   []  \n",
            "3                                                   []  \n",
            "4    [<a href=\"https://www.alieward.com/ologies/gem...  \n",
            "..                                                 ...  \n",
            "415  [Follow Bobby on <a href=\"https://x.com/rodent...  \n",
            "416  [Visit Dr. Cooney’s <a href=\"https://karacoone...  \n",
            "417  [<a href=\"https://www.alieward.com/ologies/spo...  \n",
            "418  [Visit Susan Benjamin’s historic candy company...  \n",
            "419  [A donation went to <a href=\"https://www.mural...  \n",
            "\n",
            "[420 rows x 10 columns]\n"
          ]
        }
      ]
    },
    {
      "cell_type": "markdown",
      "source": [
        "#Reviewing Data"
      ],
      "metadata": {
        "id": "fiKwWiGDJL7l"
      }
    },
    {
      "cell_type": "code",
      "source": [
        "# let's look at how the encore data came out\n",
        "encore_counts = ep_pub_df['Encore'].value_counts()\n",
        "\n",
        "#table\n",
        "episode_counts_table = pd.crosstab(ep_pub_df['Episode Type'], ep_pub_df['Encore'], margins = True)\n",
        "print(episode_counts_table)\n",
        "\n",
        "#chart\n",
        "plt.figure(figsize=(8, 6))  # Adjust figure size if needed\n",
        "plt.bar(encore_counts.index, encore_counts.values)  # Create bar chart\n",
        "plt.title('Distribution of Encore Types')\n",
        "plt.ylabel('Count')\n",
        "plt.xticks(rotation=45, ha='right')  # Rotate x-axis labels if needed\n",
        "plt.tight_layout()  # Adjust layout for better spacing\n",
        "for i, v in enumerate(encore_counts.values):\n",
        "    plt.text(i, v, str(v), ha='center', va='bottom')\n",
        "plt.show()\n",
        "\n"
      ],
      "metadata": {
        "colab": {
          "base_uri": "https://localhost:8080/",
          "height": 752
        },
        "id": "SzU-VmuzJiUl",
        "outputId": "a783981a-8e63-4e21-be6a-0c537e75c45c"
      },
      "execution_count": 119,
      "outputs": [
        {
          "output_type": "stream",
          "name": "stdout",
          "text": [
            "Encore        Memorial  Normal  Original  Updated  All\n",
            "Episode Type                                          \n",
            "Encore               2      41         0        4   47\n",
            "Multi-Part           0       0        48        0   48\n",
            "Normal               0       0       312        0  312\n",
            "Special              0       0        13        0   13\n",
            "All                  2      41       373        4  420\n"
          ]
        },
        {
          "output_type": "display_data",
          "data": {
            "text/plain": [
              "<Figure size 800x600 with 1 Axes>"
            ],
            "image/png": "[encoded data removed]"
          },
          "metadata": {}
        }
      ]
    },
    {
      "cell_type": "markdown",
      "source": [
        "#Next Steps"
      ],
      "metadata": {
        "id": "CQeIWaUEN1LR"
      }
    },
    {
      "cell_type": "markdown",
      "source": [
        "##Areas to continue exploration:\n",
        "1.   Pull Ologists names into the DB\n",
        "2.   Pull Google trends data on the ologists and ologies\n",
        "3.   Explore trends around time of year, categories, etc.\n",
        "4. Find a book sales database to see if there is a correlation there\n",
        "\n"
      ],
      "metadata": {
        "id": "y8766MZTJo3d"
      }
    },
    {
      "cell_type": "markdown",
      "source": [
        "##Future expansion\n",
        "1. Generate an Ologies book list\n",
        "2. Connect ology/ologists wikipedia pages\n",
        "3. Pull information on charities donated to"
      ],
      "metadata": {
        "id": "1h9XHxafK-Uc"
      }
    }
  ],
  "metadata": {
    "kernelspec": {
      "display_name": "Python 3",
      "name": "python3"
    },
    "language_info": {
      "name": "python"
    },
    "colab": {
      "provenance": [],
      "toc_visible": true,
      "include_colab_link": true
    }
  },
  "nbformat": 4,
  "nbformat_minor": 0
}